{
 "cells": [
  {
   "cell_type": "code",
   "execution_count": 2,
   "metadata": {},
   "outputs": [],
   "source": [
    "import numpy as np\n",
    "import pandas as pd\n",
    "from matplotlib import pyplot as plt\n",
    "import seaborn as sns"
   ]
  },
  {
   "cell_type": "code",
   "execution_count": 10,
   "metadata": {},
   "outputs": [
    {
     "name": "stdout",
     "output_type": "stream",
     "text": [
      "  Country  Year  Life expectancy at birth (years)           GDP\n",
      "0   Chile  2000                              77.3  7.786093e+10\n",
      "1   Chile  2001                              77.3  7.097992e+10\n",
      "2   Chile  2002                              77.8  6.973681e+10\n",
      "3   Chile  2003                              77.9  7.564346e+10\n",
      "4   Chile  2004                              78.0  9.921039e+10\n",
      "(96, 4)\n",
      "              Year  Life expectancy at birth (years)           GDP\n",
      "count    96.000000                         96.000000  9.600000e+01\n",
      "mean   2007.500000                         72.789583  3.880499e+12\n",
      "std       4.633971                         10.672882  5.197561e+12\n",
      "min    2000.000000                         44.300000  4.415703e+09\n",
      "25%    2003.750000                         74.475000  1.733018e+11\n",
      "50%    2007.500000                         76.750000  1.280220e+12\n",
      "75%    2011.250000                         78.900000  4.067510e+12\n",
      "max    2015.000000                         81.000000  1.810000e+13\n",
      "Index(['Country', 'Year', 'Life expectancy at birth (years)', 'GDP'], dtype='object')\n"
     ]
    }
   ],
   "source": [
    "df = pd.read_csv('all_data.csv')\n",
    "print(df.head())\n",
    "print(df.shape)\n",
    "print(df.describe())\n",
    "print(df.columns)"
   ]
  },
  {
   "cell_type": "code",
   "execution_count": null,
   "metadata": {},
   "outputs": [],
   "source": []
  }
 ],
 "metadata": {
  "kernelspec": {
   "display_name": "Python 3",
   "language": "python",
   "name": "python3"
  },
  "language_info": {
   "codemirror_mode": {
    "name": "ipython",
    "version": 3
   },
   "file_extension": ".py",
   "mimetype": "text/x-python",
   "name": "python",
   "nbconvert_exporter": "python",
   "pygments_lexer": "ipython3",
   "version": "3.8.3"
  }
 },
 "nbformat": 4,
 "nbformat_minor": 4
}
